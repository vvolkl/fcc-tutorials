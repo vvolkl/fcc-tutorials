{
 "cells": [
  {
   "cell_type": "markdown",
   "metadata": {},
   "source": [
    "[]() FCC Pythia + Delphes + Heppy Analysis\n",
    "==========================================================\n",
    "\n",
    "-   [Overview](#overview)\n",
    "-   [Generate and Simulate Events](#generate-events)\n",
    "-   [Analyze Events](#analyze-events)\n",
    "-   [Plot events](#plot-events)\n",
    "-   [Homework exercise](#homework-exercise)"
   ]
  },
  {
   "cell_type": "markdown",
   "metadata": {},
   "source": [
    "[]() Overview\n",
    "---------------------"
   ]
  },
  {
   "cell_type": "markdown",
   "metadata": {},
   "source": [
    "This tutorial will teach you how to:\n",
    "\n",
    "-   **generate** signal and background samples with **Pythia8** within FCCSW\n",
    "-   run a fast parametric **detector simulation** with **Delphes** within FCCSW\n",
    "-   apply an **event selection** on those samples with **Heppy**\n",
    "-   produce **flat ntuples** with observables of interest with Heppy\n",
    "-   produce plots\n",
    "\n",
    "**This tutorial has been tested on bash shells. It is not guaranteed to work on other shells.**\n",
    "\n",
    "[]()Part I: Generate and simulate Events with FCCSW\n",
    "----------------------------------------------------\n",
    "\n",
    "First, log into lxplus, and **install the FCC software**, using [git](./FccSoftwareGit.md):"
   ]
  },
  {
   "cell_type": "raw",
   "metadata": {},
   "source": [
    "git clone https://github.com/HEP-FCC/FCCSW.git\n",
    "cd FCCSW\n",
    "source ./init.sh\n",
    "make -j 12"
   ]
  },
  {
   "cell_type": "markdown",
   "metadata": {},
   "source": [
    "For this tutorial we will consider the following **physics processes**:\n",
    "\n",
    "-   p p -> H -> 4 l\n",
    "-   p p -> Z/gamma Z/gamma -> 4 l\n",
    "\n",
    "Pythia can be configured to hadronize previously generated hard scattering in the form of Les Houches event files (.lhe),\n",
    "or generate the hard process itself and then run the parton shower and hadronization. **In either case, the FCCSW takes\n",
    "as input a Pythia8 configuration file** (.cmd), and does not need to know which approach was used. \n",
    "\n",
    "For this tutorial, we are going to run Pythia8 on previously produced LHE files (with [MG5_aMCatNLO](https://launchpad.net/mg5amcnlo)). Additional Pythia8\n",
    "configurations are present in ```Generation/data```. \n",
    "\n",
    "The following commands will run Pythia8 and Delphes and produce the relevant signal and background samples:"
   ]
  },
  {
   "cell_type": "raw",
   "metadata": {},
   "source": [
    "./run fccrun.py Sim/SimDelphesInterface/options/PythiaDelphes_config.py --inputfile=Generation/data/Pythia_pp_h_4l.cmd --outputfile=pp_h_4l.root --nevents=1000\n",
    "./run fccrun.py Sim/SimDelphesInterface/options/PythiaDelphes_config.py --inputfile=Generation/data/Pythia_pp_zgzg_4l.cmd --outputfile=pp_zgzg_4l.root --nevents=1000"
   ]
  },
  {
   "cell_type": "markdown",
   "metadata": {
    "lines_to_next_cell": 0
   },
   "source": [
    "The `--inputfile` , `--outputfile` and `--nevents` options simply overwrite parameters that are defined in the main\n",
    "configuration `Sim/SimDelphesInterface/options/PythiaDelphes_config.py`. For a complete discussion on the structure of configuration file, see [this page](https://github.com/HEP-FCC/FCCSW/blob/master/Sim/SimDelphesInterface/doc/FccPythiaDelphes.md).\n",
    "Aside from I/O and number of events (which can be specified through command line),\n",
    "for most use cases as a user you won't need to apply any change to the configuration file.\n",
    "\n",
    "In addition to the **sequence of modules** to be executed, and which **output collections** to be stored in the output tree, the following\n",
    "parameters can be specified via the configuration file:\n",
    "\n",
    "-   `nEvents` --&gt; number\n",
    "    of events to be simulated\n",
    "-   `pythiaConfFile` --&gt;\n",
    "    Pythia8 configuration file\n",
    "-   `delphescard` --&gt;\n",
    "    Delphes detector card\n",
    "-   `out.filename` --&gt;\n",
    "    name of output file\n",
    "\n",
    "In this example, Delphes is run on the fly with the baseline FCC-hh detector configuration.\n",
    "Other detector cards can be found in the ```$DELPHES_DIR/cards``` directory, such as a ATLAS, CMS or ILD detector configurations:"
   ]
  },
  {
   "cell_type": "raw",
   "metadata": {
    "lines_to_next_cell": 0,
    "name": "delphes_card_ATLAS.tcl```,"
   },
   "source": [
    "[here](https://cp3.irmp.ucl.ac.be/projects/delphes/wiki/WorkBook).\n",
    "\n",
    "Now overwrite the samples you just produced, with larger samples (10k events) that have been previously produced and stored in eos.\n"
   ]
  },
  {
   "cell_type": "markdown",
   "metadata": {
    "lines_to_next_cell": 0
   },
   "source": [
    "export EOS_MGM_URL=\"root://eospublic.cern.ch\"\n",
    "cp /eos/experiment/fcc/hh/tutorials/Higgs_4l/pp_h_4l.root .\n",
    "cp /eos/experiment/fcc/hh/tutorials/Higgs_4l/pp_zgzg_4l.root ."
   ]
  },
  {
   "cell_type": "raw",
   "metadata": {
    "lines_to_next_cell": 0
   },
   "source": [
    "\n",
    "The output is a ROOT file containing a tree in the FCC [Event Data Model structure](https://github.com/HEP-FCC/fcc-edm). It is browsable with ROOT:\n"
   ]
  },
  {
   "cell_type": "markdown",
   "metadata": {
    "lines_to_next_cell": 0
   },
   "source": [
    "root -l pp_h_4l.root\n",
    "TBrowser t;"
   ]
  },
  {
   "cell_type": "raw",
   "metadata": {
    "lines_to_next_cell": 0
   },
   "source": [
    "\n",
    "Plotting some basic quantities directly on this output is possible, although not very handy:\n"
   ]
  },
  {
   "cell_type": "markdown",
   "metadata": {
    "lines_to_next_cell": 0
   },
   "source": [
    "events->Draw(\"sqrt(electrons[0].core.p4.px*electrons[0].core.p4.px + electrons[0].core.p4.py*electrons[0].core.p4.py)\")\n",
    "gPad->SetLogy()"
   ]
  },
  {
   "cell_type": "raw",
   "metadata": {
    "lines_to_next_cell": 0
   },
   "source": [
    "\n",
    "<img src=\"./images/FccFullAnalysis/ele1_pt.png\" width=\"400\">\n",
    "\n",
    "[]()Part II: Analyze the output with Heppy\n",
    "------------------------------------------\n",
    "\n",
    "\n",
    "[Heppy](https://github.com/HEP-FCC/heppy) is a python framework suitable for analyzing the FCCSW output.\n",
    "\n",
    "First install HEPPY:\n",
    "\n"
   ]
  },
  {
   "cell_type": "markdown",
   "metadata": {
    "lines_to_next_cell": 0
   },
   "source": [
    "git clone https://github.com/HEP-FCC/heppy.git\n",
    "cd heppy\n",
    "source init.sh\n",
    "cd .."
   ]
  },
  {
   "cell_type": "raw",
   "metadata": {
    "lines_to_next_cell": 0
   },
   "source": [
    "\n",
    "Understand the configuration file for this **H->4l analysis**: `heppy/test/analysis_pp_hTo4l_simple_cfg.py`\n",
    "This is where **filters** on input collections and **event selection** are defined.\n",
    "The sequence is divided in two parts, a gen level analysis, and a reco level.\n",
    "\n",
    "-   The **gen level analysis** simply filters interesting leptons (`gen_leptons`) and stores pT, eta in in flat tree (`gen_tree`).\n",
    "\n",
    "Have a look at the corresponding code in `heppy/analyzers/examples/hzz4l/HTo4lGenTreeProducer.py`.\n",
    "\n",
    "-   The **reco level analysis** first **selects isolated leptons** (`selected_muons`, `selected_electrons`), merges them into a single collection (`selected_leptons`),\n",
    "**builds Z candidates** (`zeds`) and finally **builds higgs candidates**  (`higgses`). After that an **event selection** is applied (`selection`).\n",
    "\n",
    "Open `heppy/analyzers/examples/hzz4l/selection.py` and understand the event selection.\n",
    "\n",
    "Finally another flat tree is produced `HTo4lTreeProducer`.\n",
    "This tree contains contains all relevant information for the two reconstructed Z bosons, the Higgs, and the four associated leptons.\n",
    "For comparison, also the MC level counterparts of the reconstructed quantities are stored.\n",
    "\n",
    "To summarize, when designing a new analysis, you will have to define:\n",
    "\n",
    "- a configuration file containing the analysis sequence\n",
    "- an event selection\n",
    "- one or several tree producer(s) where the variables to be stored in the output tree(s) are specified\n",
    "- optionally, new modules that are specific to your analysis (e.g. `LeptonicZedBuilder` here)\n",
    "\n",
    "Now run HEPPY:\n"
   ]
  },
  {
   "cell_type": "markdown",
   "metadata": {
    "lines_to_next_cell": 0
   },
   "source": [
    "heppy_loop.py pp_h_4l heppy/test/analysis_pp_hTo4l_simple_cfg.py -N 10000 -I pp_h_4l.root;\n",
    "heppy_loop.py pp_zgzg_4l heppy/test/analysis_pp_hTo4l_simple_cfg.py -N 10000 -I pp_zgzg_4l.root;"
   ]
  },
  {
   "cell_type": "raw",
   "metadata": {
    "lines_to_next_cell": 0
   },
   "source": [
    "The runs create two output directories `pp_h_4l` and `pp_zgzg_4l`, with various subdirectories. The breakdown of\n",
    "efficiencies by cut can be found in:\n",
    "\n",
    "`example/heppy.analyzers.examples.hzz4l.selection.Selection_cuts/cut_flow.txt`\n",
    "\n",
    "The **gen-level** and **reco-level** output trees can be found here:\n",
    "\n",
    "`example/heppy.analyzers.examples.hzz4l.HTo4lGenTreeProducer.HTo4lGenTreeProducer_1/tree.root`\n",
    "`example/heppy.analyzers.examples.hzz4l.HTo4lTreeProducer.HTo4lTreeProducer_1/tree.root`\n",
    "\n",
    "\n",
    "[]()Part III: Produce plots\n",
    "-----------------------\n",
    "\n",
    "Download the python code:\n"
   ]
  },
  {
   "cell_type": "markdown",
   "metadata": {
    "lines_to_next_cell": 0
   },
   "source": [
    "git clone https://github.com/selvaggi/tutorials.git"
   ]
  },
  {
   "cell_type": "raw",
   "metadata": {
    "lines_to_next_cell": 0
   },
   "source": [
    "\n",
    "Produce Gen-level plots:\n"
   ]
  },
  {
   "cell_type": "markdown",
   "metadata": {
    "lines_to_next_cell": 0
   },
   "source": [
    "python tutorials/fcc/createGenHistos.py\n",
    "eog plots/lep*.png"
   ]
  },
  {
   "cell_type": "raw",
   "metadata": {
    "lines_to_next_cell": 0
   },
   "source": [
    "\n",
    "<img src=\"./images/FccFullAnalysis/lep1vsPt_pt.png\" width=\"400\">\n",
    "<img src=\"./images/FccFullAnalysis/lep1vsEta_eta.png\" width=\"400\">\n",
    "\n",
    "Produce Reco-level plots:\n"
   ]
  },
  {
   "cell_type": "markdown",
   "metadata": {
    "lines_to_next_cell": 0
   },
   "source": [
    "python tutorials/fcc/createRecoHistos.py\n",
    "eog plots/*_m.png"
   ]
  },
  {
   "cell_type": "raw",
   "metadata": {
    "lines_to_next_cell": 0
   },
   "source": [
    "\n",
    "Appreciate the signal yield for **25 fb-1 of data**. Compare with [ATLAS results](https://arxiv.org/pdf/1408.5191v3.pdf) at 7,8 TeV .\n",
    "\n",
    "<img src=\"./images/FccFullAnalysis/higgs_m.png\" width=\"400\">\n",
    "<img src=\"./images/FccFullAnalysis/m4l_80_170_allYear_125.png\" width=\"400\">\n",
    "\n",
    "[]()Part IV: Homework\n",
    "---------------------\n",
    "\n",
    "As an exercise you can **re-run the full analysis with the CMS detector configuration** .Additional Delphes card can\n",
    "be found in ```$DELPHES_DIR/cards```). \n",
    "\n",
    "Hint: The input Delphes card can be specified in the command line argument: "
   ]
  },
  {
   "cell_type": "markdown",
   "metadata": {
    "lines_to_next_cell": 0
   },
   "source": [
    "--delphescard=$DELPHES_DIR/cards/delphes_card_CMS.tcl"
   ]
  },
  {
   "cell_type": "raw",
   "metadata": {},
   "source": [
    "\n",
    "You should obtain a plot similar to the following:\n",
    "\n",
    "<img src=\"./images/FccFullAnalysis/higgs_m_cms.png\" width=\"400\">\n",
    "\n",
    "By comparing the CMS and FCC Delphes cards, try to explain:\n",
    "\n",
    "-  the **event yields difference between 7/8 TeV and 100 TeV** (by comparing the official ATLAS plot with the CMS configuration you just ran at 100 TeV)\n",
    "-  the **event yields difference at 100 TeV** between the CMS and FCC detector configurations\n",
    "-  the **difference in the width of Z and H peaks** between the CMS and FCC detector configurations\n",
    "\n",
    "\n",
    "[]() Other documentation\n",
    "------------------------\n",
    "\n",
    "-   [Submit FCCSW jobs using the condor queue](https://github.com/HEP-FCC/fcc-tutorials/blob/master/FccCondor.md)\n",
    "-   [Submit Heppy jobs using the batch queue](https://github.com/HEP-FCC/heppy/blob/master/doc/Heppy_-_Parallel_Processing.md)\n",
    "-   [FCCSW webpage](http://fccsw.web.cern.ch/fccsw/index.html)\n",
    "-   [Pythia8 manual](http://home.thep.lu.se/~torbjorn/pythia81html/Welcome.html)\n",
    "-   [Delphes website](https://cp3.irmp.ucl.ac.be/projects/delphes)\n",
    "\n",
    "------------------------------------------------------------------------\n",
    "\n",
    "\n",
    "\n",
    "\n",
    "\n",
    "\n",
    "\n",
    "\n",
    "\n",
    "\n",
    "\n",
    "\n",
    "\n",
    "\n",
    "\n",
    "\n",
    "\n",
    "\n",
    "\n",
    "\n",
    "\n",
    "\n",
    "\n",
    "\n",
    "\n",
    "\n",
    "\n",
    "\n",
    "\n"
   ]
  }
 ],
 "metadata": {
  "jupytext": {
   "main_language": "python",
   "text_representation": {
    "extension": ".md",
    "format_name": "markdown"
   }
  },
  "kernelspec": {
   "display_name": "Python 3",
   "language": "python",
   "name": "python3"
  },
  "language_info": {
   "codemirror_mode": {
    "name": "ipython",
    "version": 3
   },
   "file_extension": ".py",
   "mimetype": "text/x-python",
   "name": "python",
   "nbconvert_exporter": "python",
   "pygments_lexer": "ipython3",
   "version": "3.6.8"
  }
 },
 "nbformat": 4,
 "nbformat_minor": 2
}
